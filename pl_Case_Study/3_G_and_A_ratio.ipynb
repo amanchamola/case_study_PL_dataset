{
 "cells": [
  {
   "cell_type": "markdown",
   "metadata": {},
   "source": [
    "# Case 3 -\n",
    "\n",
    "top 5 Players with best ratio of goals and assists per 90 minutues ratio"
   ]
  },
  {
   "cell_type": "code",
   "execution_count": null,
   "metadata": {},
   "outputs": [],
   "source": []
  },
  {
   "cell_type": "code",
   "execution_count": 1,
   "metadata": {},
   "outputs": [],
   "source": [
    "import numpy as np\n",
    "import pandas as pd\n",
    "import matplotlib.pyplot as plt\n",
    "import csv\n",
    "import operator"
   ]
  },
  {
   "cell_type": "code",
   "execution_count": 2,
   "metadata": {},
   "outputs": [],
   "source": [
    "path = 'C:/Users/91958/Desktop/nyadata/PL_Player_Stats.csv'"
   ]
  },
  {
   "cell_type": "code",
   "execution_count": 3,
   "metadata": {},
   "outputs": [],
   "source": [
    "df = pd.read_csv(path)"
   ]
  },
  {
   "cell_type": "code",
   "execution_count": 4,
   "metadata": {},
   "outputs": [],
   "source": [
    "case3 = df.copy()"
   ]
  },
  {
   "cell_type": "code",
   "execution_count": 5,
   "metadata": {},
   "outputs": [
    {
     "data": {
      "text/plain": [
       "Index(['Rank', 'PLAYER', 'TEAM', 'GamesPlayed', 'GamesStarted', 'MIN', 'Goals',\n",
       "       'Assists', 'TotalShots', 'SOT'],\n",
       "      dtype='object')"
      ]
     },
     "execution_count": 5,
     "metadata": {},
     "output_type": "execute_result"
    }
   ],
   "source": [
    "case3.columns = ['Rank','PLAYER','TEAM','GamesPlayed','GamesStarted','MIN','Goals','Assists','TotalShots','SOT']\n",
    "case3.columns"
   ]
  },
  {
   "cell_type": "code",
   "execution_count": 48,
   "metadata": {},
   "outputs": [],
   "source": [
    "case3['PLAYER'].replace(\"Pierre-Emerick Aubameyang\", \"Pierre Aubameyang\", inplace = True)\n",
    "case3['PLAYER'].replace(\"Raheem Shaquille Sterling\", \"Raheem Sterling\", inplace = True)\n",
    "case3['PLAYER'].replace(\"Mohamed Salah Ghaly\", \"Moh Salah\", inplace = True)\n",
    "\n",
    "case3['PLAYER'].replace(\"Gabriel Fernando de Jesus\", \"G.Jesus\", inplace = True)\n",
    "case3['PLAYER'].replace(\"Sergio Leonel Agüero del Castillo\", \"Sergio Aguero\", inplace = True)\n",
    "case3['PLAYER'].replace(\"Bruno Miguel Borges Fernandes\", \"Bruno Fernandes\", inplace = True)"
   ]
  },
  {
   "cell_type": "code",
   "execution_count": 49,
   "metadata": {},
   "outputs": [],
   "source": [
    "case3['PLAYER'].replace(\"Pierre-Emerick Aubameyang\", \"Pierre Aubameyang\", inplace = True)\n",
    "case3['PLAYER'].replace(\"Raheem Shaquille Sterling\", \"Raheem Sterling\", inplace = True)\n",
    "case3['PLAYER'].replace(\"Mohamed Salah Ghaly\", \"Moh Salah\", inplace = True)"
   ]
  },
  {
   "cell_type": "code",
   "execution_count": null,
   "metadata": {},
   "outputs": [],
   "source": []
  },
  {
   "cell_type": "markdown",
   "metadata": {},
   "source": [
    "# Function for G+A ratio per 90 mins"
   ]
  },
  {
   "cell_type": "code",
   "execution_count": 57,
   "metadata": {},
   "outputs": [],
   "source": [
    "def GperMIN(player,G,minutes,assists):\n",
    "    di = {}   ## key as player name value as mintues per goals and assits scored as value \n",
    "    \n",
    "    n = len(player)\n",
    "    for index in range(n):\n",
    "        i = player[index]\n",
    "        g = G[index]\n",
    "        m = minutes[index]\n",
    "        a = assists[index]\n",
    "        if g != 0 and a !=0:\n",
    "            M_per_G = 90/(m/(g+a))\n",
    "            di[i] =  M_per_G\n",
    "        else:\n",
    "            continue\n",
    "    return di    \n",
    " "
   ]
  },
  {
   "cell_type": "code",
   "execution_count": 58,
   "metadata": {},
   "outputs": [
    {
     "data": {
      "text/plain": [
       "{'Jamie Vardy': 0.8305866842452208,\n",
       " 'Danny Ings': 0.7681365576102418,\n",
       " 'Pierre Aubameyang': 0.717017208413002,\n",
       " 'Raheem Sterling': 0.7105263157894737,\n",
       " 'Moh Salah': 0.9049930651872399,\n",
       " 'Sadio Mané': 0.817290228841264,\n",
       " 'Harry Kane': 0.6952491309385864,\n",
       " 'Raúl Alonso Jiménez Rodríguez': 0.6381011097410604,\n",
       " 'Marcus Rashford': 0.8141726347531096,\n",
       " 'Anthony Martial': 0.7846853677028052,\n",
       " 'Sergio Aguero': 1.1744505494505495,\n",
       " 'Tammy Bakumo-Abraham': 0.7294011706438541,\n",
       " 'G.Jesus': 0.9324124321657623,\n",
       " 'Chris Wood': 0.5523731587561375,\n",
       " 'Kevin De Bruyne': 1.0614724803431024,\n",
       " 'Dominic Calvert-Lewin': 0.4792696842906048,\n",
       " 'Richarlison de Andrade': 0.4673807205452775,\n",
       " 'Teemu Pukki': 0.4356846473029045,\n",
       " 'Riyad Mahrez': 0.9278350515463918,\n",
       " 'Heung-Min Son': 0.7605633802816901,\n",
       " 'Michail Antonio': 0.6610169491525424,\n",
       " 'Neal Maupay': 0.4226878612716763,\n",
       " 'Alexandre Lacazette': 0.6712839637719765,\n",
       " 'Mason Greenwood': 0.7545731707317074,\n",
       " 'Troy Deeney': 0.4834377797672337,\n",
       " 'Roberto Firmino Barbosa de Oliveira': 0.509830056647784,\n",
       " 'Jordan Ayew': 0.31329113924050633,\n",
       " 'Christian Pulisic': 0.6778679026651216,\n",
       " 'Willian Borges Da Silva': 0.5536332179930796,\n",
       " 'Callum Wilson': 0.2784462014437951,\n",
       " 'Jack Grealish': 0.38961038961038963,\n",
       " 'Ayoze Pérez': 0.5349182763744428,\n",
       " 'Jay Rodriguez': 0.40318566450970633,\n",
       " 'Bamidele Alli': 0.5834683954619124,\n",
       " 'Bruno Fernandes': 1.1325503355704698,\n",
       " 'Sébastien Haller': 0.3181617322138754,\n",
       " 'Diogo José Teixeira da Silva': 0.3134523291249456,\n",
       " 'Mason Mount': 0.37604456824512533,\n",
       " 'Todd Cantwell': 0.288,\n",
       " 'David Silva': 0.7860262008733624,\n",
       " 'Bernardo Mota Veiga de Carvalho e Silva': 0.5766387382947266,\n",
       " 'Joshua King': 0.44576523031203563,\n",
       " 'Mahmoud Ahmed Ibrahim Hassan': 0.3230769230769231,\n",
       " 'Harvey Barnes': 0.6028708133971292,\n",
       " 'James Maddison': 0.3082191780821918,\n",
       " 'Jonjo Shelvey': 0.3391427225624117,\n",
       " 'Lys Mousset': 0.7305194805194805,\n",
       " 'Virgil van Dijk': 0.15789473684210525,\n",
       " 'Phil Foden': 0.7062780269058296,\n",
       " 'Robert Snodgrass': 0.5956320317670417,\n",
       " 'John Fleck': 0.25029797377830754,\n",
       " 'Leandro Trossard': 0.35767511177347244,\n",
       " 'John Lundstram': 0.29327902240325865,\n",
       " 'James Ward-Prowse': 0.21052631578947367,\n",
       " 'Wesley Moraes Ferreira da Silva': 0.3016759776536313,\n",
       " 'Nicolas Pépé': 0.4913151364764268,\n",
       " 'Kelechi Iheanacho': 0.7492195629552549,\n",
       " 'Stuart Armstrong': 0.4203152364273205,\n",
       " 'Andrii Yarmolenko': 0.5465587044534413,\n",
       " 'Ismaïla Sarr': 0.3994082840236686,\n",
       " 'Divock Okoth Origi': 0.6373937677053825,\n",
       " 'Trent Alexander-Arnold': 0.48173803526448367,\n",
       " 'Jordan Henderson': 0.3609625668449198,\n",
       " 'Alex Oxlade-Chamberlain': 0.3016085790884719,\n",
       " 'Che Adams': 0.4886877828054299,\n",
       " 'Nathan Redmond': 0.26011560693641617,\n",
       " 'Wilfried Zaha': 0.19207317073170732,\n",
       " 'Lucas Rodrigues Moura da Silva': 0.3204272363150868,\n",
       " 'Anwar El Ghazi': 0.34934497816593885,\n",
       " 'Miguel Ángel Almirón Rejala': 0.17804154302670624,\n",
       " 'Matt Doherty': 0.22183098591549294,\n",
       " 'Adama Traoré': 0.44896392939370683,\n",
       " 'Jorge Luiz Frello Filho': 0.22651006711409397,\n",
       " 'Marcos Alonso': 0.3770949720670391,\n",
       " 'Scott McTominay': 0.2542372881355932,\n",
       " 'Gerard Deulofeu': 0.3847980997624703,\n",
       " 'Abdoulaye Doucouré': 0.17050836754025891,\n",
       " 'Mark Noble': 0.23472429210134127,\n",
       " 'Dwight Gayle': 0.6360424028268551,\n",
       " 'Rodrigo Hernández Cascante': 0.18101367658889783,\n",
       " 'Issa Diop': 0.1301518438177874,\n",
       " 'Bernard Anício Caldeira Duarte': 0.35211267605633806,\n",
       " 'Luka Milivojević': 0.1431980906921241,\n",
       " 'Lewis Dunk': 0.1671309192200557,\n",
       " 'Billy Sharp': 0.4297994269340974,\n",
       " 'Adam Webster': 0.1348314606741573,\n",
       " 'Dominic Solanke': 0.21897810218978103,\n",
       " 'Michael Obafemi': 0.6807866868381242,\n",
       " 'Patrick van Aanholt': 0.17921146953405018,\n",
       " 'John McGinn': 0.23316062176165803,\n",
       " 'Conor Hourihane': 0.4681404421326398,\n",
       " 'Douglas Luiz Soares de Paulo': 0.17254601226993865,\n",
       " 'Ricardo Domingos Barbosa Pereira': 0.17857142857142858,\n",
       " 'Ben Chilwell': 0.22736842105263158,\n",
       " 'Pedro Lomba Neto': 0.581896551724138,\n",
       " 'Youri Tielemans': 0.28581510232886376,\n",
       " 'Allan Saint-Maximin': 0.3368983957219251,\n",
       " 'Daniel James': 0.3537117903930131,\n",
       " 'Jeffrey Schlupp': 0.3481624758220503,\n",
       " 'Aaron Anthony Connolly': 0.2854877081681205,\n",
       " 'Dan Gosling': 0.2857142857142857,\n",
       " 'Steven Bergwijn': 0.5128205128205128,\n",
       " 'Naby Deco Keïta': 0.5528255528255528,\n",
       " 'James Milner': 0.38876889848812096,\n",
       " 'Andrew Robertson': 0.40475425634436235,\n",
       " 'Fábio Henrique Tavares': 0.21697203471552554,\n",
       " 'İlkay Gündoğan': 0.1338621715418939,\n",
       " 'Pablo Fornals': 0.28938906752411575,\n",
       " 'Moise Kean': 0.4311377245508982,\n",
       " 'Yerry Fernando Mina González': 0.1183691363437089,\n",
       " 'Gylfi Sigurdsson': 0.17557549746390946,\n",
       " 'Theo Walcott': 0.34695451040863534,\n",
       " 'Pascal Groß': 0.29966703662597116,\n",
       " 'George Baldock': 0.13157894736842105,\n",
       " 'David McGoldrick': 0.19758507135016465,\n",
       " 'Enda Stevens': 0.16138673042438734,\n",
       " 'Nathan Aké': 0.1437125748502994,\n",
       " 'Moussa Djenepo': 0.38876889848812096,\n",
       " 'Christian Benteke Liolo': 0.21479713603818615,\n",
       " 'Tyrone Mings': 0.12400964519462625,\n",
       " 'Tanguy Ndombèlé Alvaro': 0.35749751737835156,\n",
       " 'Erik Lamela': 0.22295623451692814,\n",
       " 'Moussa Sissoko': 0.109979633401222,\n",
       " 'Toby Alderweireld': 0.12170385395537525,\n",
       " 'Jonathan Castro Otto': 0.1245674740484429,\n",
       " 'Rúben Diogo da Silva Neves': 0.11768551814318405,\n",
       " 'David Luiz Moreira Marinho': 0.096051227321238,\n",
       " 'Onyinye Wilfred Ndidi': 0.10097232610321615,\n",
       " 'Romain Saïss': 0.09977827050997783,\n",
       " 'Joelinton Cássio Apolinário de Lira': 0.1333827343460541,\n",
       " 'Federico Fernández': 0.13750954927425516,\n",
       " 'Matt Ritchie': 0.20532319391634982,\n",
       " 'César Azpilicueta': 0.22291021671826625,\n",
       " 'Dwight McNeil': 0.215311004784689,\n",
       " 'James Tarkowski': 0.10526315789473684,\n",
       " 'Ashley Westwood': 0.22857142857142856,\n",
       " 'Demarai Gray': 0.7413509060955519,\n",
       " 'Matej Vydra': 0.33251231527093594,\n",
       " 'Shane Long': 0.2573266619013581,\n",
       " 'Emiliano Buendía': 0.2924451665312754,\n",
       " 'Onel Hernández': 0.19551049963794354,\n",
       " 'Kenny McLean': 0.06072874493927125,\n",
       " 'Kyle Walker': 0.18789144050104384,\n",
       " 'Felipe Anderson Pereira Gomes': 0.29900332225913623,\n",
       " 'Declan Rice': 0.10526315789473684,\n",
       " 'Davy Pröpper': 0.09544008483563096,\n",
       " 'Jóhann Gudmundsson': 0.28938906752411575,\n",
       " 'Glenn Murray': 0.22784810126582278,\n",
       " 'Oliver Norwood': 0.05806451612903226,\n",
       " 'Philip Billing': 0.07109004739336493,\n",
       " 'Jefferson Andrés Lerma Solís': 0.09966777408637874,\n",
       " 'Cédric Ricardo Alves Soares': 0.11545862732520847,\n",
       " 'Jan Bednarek': 0.058862001308044476,\n",
       " 'Ryan Bertrand': 0.06559766763848396,\n",
       " 'Jack Stephens': 0.14675907052588666,\n",
       " 'Cheikhou Kouyaté': 0.07100591715976332,\n",
       " 'Andros Townsend': 0.13964313421256788,\n",
       " 'Ahmed Eissa El Mohamady Abdel Fattah': 0.17543859649122806,\n",
       " 'Ezri Konsa Ngoyo': 0.13222331047992164,\n",
       " 'Matt Targett': 0.11764705882352941,\n",
       " 'Serge Aurier': 0.19963031423290203,\n",
       " 'Granit Xhaka': 0.10420686993438827,\n",
       " 'Calum Chambers': 0.1631912964641886,\n",
       " 'Lucas Torreira': 0.11936339522546419,\n",
       " 'Joseph Willock': 0.2132701421800948,\n",
       " 'Hamza Choudhury': 0.20247469066366705,\n",
       " 'Jonny Evans': 0.053175775480059084,\n",
       " 'Dennis Praet': 0.23851590106007067,\n",
       " 'João Filipe Iria Santos Moutinho': 0.20276794335371742,\n",
       " 'Çağlar Söyüncü': 0.059269015475798485,\n",
       " 'Isaac Hayden': 0.12129380053908356,\n",
       " 'Sean Longstaff': 0.13109978150036417,\n",
       " 'Andreas Hugo Hoelgebaum Pereira': 0.24193548387096775,\n",
       " 'Paul Pogba': 0.2987551867219917,\n",
       " 'Ross Barkley': 0.4076086956521739,\n",
       " 'Mateo Kovačić': 0.1736613603473227,\n",
       " 'Pedro Rodríguez Ledesma': 0.2719033232628399,\n",
       " 'Harry Maguire': 0.05263157894736842,\n",
       " 'Ben Mee': 0.0625,\n",
       " 'Will Hughes': 0.07957559681697612,\n",
       " 'Adam Lallana': 0.48128342245989303,\n",
       " 'Alexander Tettey': 0.07659574468085106,\n",
       " 'Jan Vertonghen': 0.10935601458080195,\n",
       " 'Michy Batshuayi Tunga': 0.7964601769911505,\n",
       " 'Mesut Özil': 0.18646408839779005,\n",
       " 'James Tomkins': 0.11363636363636363,\n",
       " 'Robbie Brady': 0.6,\n",
       " 'Bukayo Saka': 0.30804335424985735,\n",
       " 'Callum Hudson-Odoi': 0.6352941176470589,\n",
       " 'Kieran Tierney': 0.1814516129032258,\n",
       " 'Sander Berge': 0.18967334035827185,\n",
       " 'Jarrod Bowen': 0.48966267682263326}"
      ]
     },
     "execution_count": 58,
     "metadata": {},
     "output_type": "execute_result"
    }
   ],
   "source": [
    "dictionary = GperMIN(case3[\"PLAYER\"],case3[\"Goals\"],case3[\"MIN\"],case3[\"Assists\"])\n",
    "dictionary"
   ]
  },
  {
   "cell_type": "code",
   "execution_count": 59,
   "metadata": {},
   "outputs": [],
   "source": [
    "top7 = pd.DataFrame(list(dictionary.values()),list(dictionary.keys()))"
   ]
  },
  {
   "cell_type": "code",
   "execution_count": 64,
   "metadata": {},
   "outputs": [
    {
     "data": {
      "text/html": [
       "<div>\n",
       "<style scoped>\n",
       "    .dataframe tbody tr th:only-of-type {\n",
       "        vertical-align: middle;\n",
       "    }\n",
       "\n",
       "    .dataframe tbody tr th {\n",
       "        vertical-align: top;\n",
       "    }\n",
       "\n",
       "    .dataframe thead th {\n",
       "        text-align: right;\n",
       "    }\n",
       "</style>\n",
       "<table border=\"1\" class=\"dataframe\">\n",
       "  <thead>\n",
       "    <tr style=\"text-align: right;\">\n",
       "      <th></th>\n",
       "      <th>0</th>\n",
       "    </tr>\n",
       "  </thead>\n",
       "  <tbody>\n",
       "    <tr>\n",
       "      <th>Sergio Aguero</th>\n",
       "      <td>1.174451</td>\n",
       "    </tr>\n",
       "    <tr>\n",
       "      <th>Bruno Fernandes</th>\n",
       "      <td>1.132550</td>\n",
       "    </tr>\n",
       "    <tr>\n",
       "      <th>Kevin De Bruyne</th>\n",
       "      <td>1.061472</td>\n",
       "    </tr>\n",
       "    <tr>\n",
       "      <th>G.Jesus</th>\n",
       "      <td>0.932412</td>\n",
       "    </tr>\n",
       "    <tr>\n",
       "      <th>Riyad Mahrez</th>\n",
       "      <td>0.927835</td>\n",
       "    </tr>\n",
       "    <tr>\n",
       "      <th>...</th>\n",
       "      <td>...</td>\n",
       "    </tr>\n",
       "    <tr>\n",
       "      <th>Çağlar Söyüncü</th>\n",
       "      <td>0.059269</td>\n",
       "    </tr>\n",
       "    <tr>\n",
       "      <th>Jan Bednarek</th>\n",
       "      <td>0.058862</td>\n",
       "    </tr>\n",
       "    <tr>\n",
       "      <th>Oliver Norwood</th>\n",
       "      <td>0.058065</td>\n",
       "    </tr>\n",
       "    <tr>\n",
       "      <th>Jonny Evans</th>\n",
       "      <td>0.053176</td>\n",
       "    </tr>\n",
       "    <tr>\n",
       "      <th>Harry Maguire</th>\n",
       "      <td>0.052632</td>\n",
       "    </tr>\n",
       "  </tbody>\n",
       "</table>\n",
       "<p>192 rows × 1 columns</p>\n",
       "</div>"
      ],
      "text/plain": [
       "                        0\n",
       "Sergio Aguero    1.174451\n",
       "Bruno Fernandes  1.132550\n",
       "Kevin De Bruyne  1.061472\n",
       "G.Jesus          0.932412\n",
       "Riyad Mahrez     0.927835\n",
       "...                   ...\n",
       "Çağlar Söyüncü   0.059269\n",
       "Jan Bednarek     0.058862\n",
       "Oliver Norwood   0.058065\n",
       "Jonny Evans      0.053176\n",
       "Harry Maguire    0.052632\n",
       "\n",
       "[192 rows x 1 columns]"
      ]
     },
     "execution_count": 64,
     "metadata": {},
     "output_type": "execute_result"
    }
   ],
   "source": [
    "top7 = top7.sort_values(by = [0], ascending = False)\n",
    "top7"
   ]
  },
  {
   "cell_type": "code",
   "execution_count": 65,
   "metadata": {},
   "outputs": [
    {
     "name": "stdout",
     "output_type": "stream",
     "text": [
      "['Sergio Aguero', 'Bruno Fernandes', 'Kevin De Bruyne', 'G.Jesus', 'Riyad Mahrez', 'Moh Salah', 'Jamie Vardy'] [1.1744505494505495, 1.1325503355704698, 1.0614724803431024, 0.9324124321657623, 0.9278350515463918, 0.9049930651872399, 0.8305866842452208]\n"
     ]
    }
   ],
   "source": [
    "x= []\n",
    "y = []\n",
    "for i in range (7):\n",
    "    x.append(top7.index[i])\n",
    "    y.append(top7.values[i][0])\n",
    "print(x,y)"
   ]
  },
  {
   "cell_type": "code",
   "execution_count": 66,
   "metadata": {},
   "outputs": [
    {
     "name": "stdout",
     "output_type": "stream",
     "text": [
      "List Of Top 7 performers in Premier League 2019/20 Season :\n",
      "1: Sergio Aguero\n",
      "2: Bruno Fernandes\n",
      "3: Kevin De Bruyne\n",
      "4: G.Jesus\n",
      "5: Riyad Mahrez\n",
      "6: Moh Salah\n",
      "7: Jamie Vardy\n"
     ]
    }
   ],
   "source": [
    "print(\"List Of Top 7 performers in Premier League 2019/20 Season :\")\n",
    "i = 0\n",
    "for ele in x:\n",
    "    print(i+1,end='')\n",
    "    print(\": \",end = '')\n",
    "    print(ele)\n",
    "    \n",
    "    i += 1"
   ]
  },
  {
   "cell_type": "markdown",
   "metadata": {},
   "source": [
    "## Plotting"
   ]
  },
  {
   "cell_type": "code",
   "execution_count": 81,
   "metadata": {},
   "outputs": [
    {
     "data": {
      "image/png": "[encoded data removed]",
      "text/plain": [
       "<Figure size 432x288 with 1 Axes>"
      ]
     },
     "metadata": {
      "needs_background": "light"
     },
     "output_type": "display_data"
    }
   ],
   "source": [
    "\n",
    "plt.plot(x, y, color='red', linestyle='dashed', linewidth = 3, marker='^', markerfacecolor='blue', markersize=12)\n",
    "plt.xlabel(\"Player\")\n",
    "plt.xticks(rotation=40)\n",
    "plt.ylabel(\"Goals\")\n",
    "plt.title(\"Top 5 performers\")\n",
    "plt.grid()\n",
    "plt.show()\n"
   ]
  },
  {
   "cell_type": "code",
   "execution_count": 79,
   "metadata": {},
   "outputs": [
    {
     "data": {
      "text/html": [
       "<div>\n",
       "<style scoped>\n",
       "    .dataframe tbody tr th:only-of-type {\n",
       "        vertical-align: middle;\n",
       "    }\n",
       "\n",
       "    .dataframe tbody tr th {\n",
       "        vertical-align: top;\n",
       "    }\n",
       "\n",
       "    .dataframe thead th {\n",
       "        text-align: right;\n",
       "    }\n",
       "</style>\n",
       "<table border=\"1\" class=\"dataframe\">\n",
       "  <thead>\n",
       "    <tr style=\"text-align: right;\">\n",
       "      <th></th>\n",
       "      <th>Players</th>\n",
       "      <th>G+A ratio</th>\n",
       "    </tr>\n",
       "  </thead>\n",
       "  <tbody>\n",
       "    <tr>\n",
       "      <th>1</th>\n",
       "      <td>Sergio Aguero</td>\n",
       "      <td>1.174451</td>\n",
       "    </tr>\n",
       "    <tr>\n",
       "      <th>2</th>\n",
       "      <td>Bruno Fernandes</td>\n",
       "      <td>1.132550</td>\n",
       "    </tr>\n",
       "    <tr>\n",
       "      <th>3</th>\n",
       "      <td>Kevin De Bruyne</td>\n",
       "      <td>1.061472</td>\n",
       "    </tr>\n",
       "    <tr>\n",
       "      <th>4</th>\n",
       "      <td>G.Jesus</td>\n",
       "      <td>0.932412</td>\n",
       "    </tr>\n",
       "    <tr>\n",
       "      <th>5</th>\n",
       "      <td>Riyad Mahrez</td>\n",
       "      <td>0.927835</td>\n",
       "    </tr>\n",
       "    <tr>\n",
       "      <th>6</th>\n",
       "      <td>Moh Salah</td>\n",
       "      <td>0.904993</td>\n",
       "    </tr>\n",
       "    <tr>\n",
       "      <th>7</th>\n",
       "      <td>Jamie Vardy</td>\n",
       "      <td>0.830587</td>\n",
       "    </tr>\n",
       "  </tbody>\n",
       "</table>\n",
       "</div>"
      ],
      "text/plain": [
       "           Players  G+A ratio\n",
       "1    Sergio Aguero   1.174451\n",
       "2  Bruno Fernandes   1.132550\n",
       "3  Kevin De Bruyne   1.061472\n",
       "4          G.Jesus   0.932412\n",
       "5     Riyad Mahrez   0.927835\n",
       "6        Moh Salah   0.904993\n",
       "7      Jamie Vardy   0.830587"
      ]
     },
     "execution_count": 79,
     "metadata": {},
     "output_type": "execute_result"
    }
   ],
   "source": [
    "li = list(zip(x,y))\n",
    "idxli = []\n",
    "for i in range(1,8):\n",
    "    idxli.append(i)\n",
    "da = pd.DataFrame(li,columns=['Players','G+A ratio'],index = idxli)\n",
    "da"
   ]
  },
  {
   "cell_type": "code",
   "execution_count": null,
   "metadata": {},
   "outputs": [],
   "source": []
  }
 ],
 "metadata": {
  "kernelspec": {
   "display_name": "Python 3",
   "language": "python",
   "name": "python3"
  },
  "language_info": {
   "codemirror_mode": {
    "name": "ipython",
    "version": 3
   },
   "file_extension": ".py",
   "mimetype": "text/x-python",
   "name": "python",
   "nbconvert_exporter": "python",
   "pygments_lexer": "ipython3",
   "version": "3.8.3"
  }
 },
 "nbformat": 4,
 "nbformat_minor": 4
}
