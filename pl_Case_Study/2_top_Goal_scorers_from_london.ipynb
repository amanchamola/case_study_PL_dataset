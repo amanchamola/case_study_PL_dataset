{
 "cells": [
  {
   "cell_type": "markdown",
   "metadata": {},
   "source": [
    "# Case 2\n",
    "\n",
    "top 5 goal scorers among london clubs in the premier league 2019/20 season"
   ]
  },
  {
   "cell_type": "code",
   "execution_count": null,
   "metadata": {},
   "outputs": [],
   "source": []
  },
  {
   "cell_type": "code",
   "execution_count": 1,
   "metadata": {},
   "outputs": [],
   "source": [
    "import numpy as np\n",
    "import pandas as pd\n",
    "import matplotlib.pyplot as plt\n",
    "import csv\n",
    "import operator"
   ]
  },
  {
   "cell_type": "code",
   "execution_count": 2,
   "metadata": {},
   "outputs": [],
   "source": [
    "path = 'C:/Users/91958/Desktop/nyadata/PL_Player_Stats.csv'"
   ]
  },
  {
   "cell_type": "code",
   "execution_count": 3,
   "metadata": {},
   "outputs": [],
   "source": [
    "df = pd.read_csv(path)"
   ]
  },
  {
   "cell_type": "code",
   "execution_count": 4,
   "metadata": {},
   "outputs": [],
   "source": [
    "case2 = df.copy()"
   ]
  },
  {
   "cell_type": "code",
   "execution_count": 21,
   "metadata": {},
   "outputs": [
    {
     "data": {
      "text/plain": [
       "Index(['Rank', 'PLAYER', 'TEAM', 'GamesPlayed', 'GamesStarted', 'MIN', 'Goals',\n",
       "       'Assists', 'TotalShots', 'SOT'],\n",
       "      dtype='object')"
      ]
     },
     "execution_count": 21,
     "metadata": {},
     "output_type": "execute_result"
    }
   ],
   "source": [
    "case2.columns = ['Rank','PLAYER','TEAM','GamesPlayed','GamesStarted','MIN','Goals','Assists','TotalShots','SOT']\n",
    "case2.columns"
   ]
  },
  {
   "cell_type": "code",
   "execution_count": 10,
   "metadata": {},
   "outputs": [],
   "source": [
    "# Filtering na if any\n",
    "\n",
    "case2.dropna(inplace = True, subset = ['PLAYER'])\n",
    "case2.reset_index(inplace = True, drop = True)"
   ]
  },
  {
   "cell_type": "code",
   "execution_count": null,
   "metadata": {},
   "outputs": [],
   "source": []
  },
  {
   "cell_type": "code",
   "execution_count": 16,
   "metadata": {},
   "outputs": [
    {
     "data": {
      "text/plain": [
       "Index(['West Ham United', 'Arsenal', 'Manchester United', 'Bournemouth',\n",
       "       'Norwich City', 'Newcastle United', 'Liverpool', 'Tottenham Hotspur',\n",
       "       'Burnley', 'Watford', 'Chelsea', 'Southampton', 'Aston Villa',\n",
       "       'Crystal Palace', 'Manchester City', 'Everton', 'Sheffield United',\n",
       "       'Wolverhampton Wanderers', 'Brighton and Hove Albion',\n",
       "       'Leicester City'],\n",
       "      dtype='object')"
      ]
     },
     "execution_count": 16,
     "metadata": {},
     "output_type": "execute_result"
    }
   ],
   "source": [
    "temp = case2[\"TEAM\"].value_counts()\n",
    "temp.index"
   ]
  },
  {
   "cell_type": "markdown",
   "metadata": {},
   "source": [
    "## London Clubs include West Ham, Arsenal, Spurs, Chelsea, Crystal Palace"
   ]
  },
  {
   "cell_type": "code",
   "execution_count": null,
   "metadata": {},
   "outputs": [],
   "source": [
    "## filtering clubs here by using exclusive or here as it's a series we cannot use normal or"
   ]
  },
  {
   "cell_type": "code",
   "execution_count": 36,
   "metadata": {},
   "outputs": [],
   "source": [
    "case2 = case2[(case2['TEAM'] == 'West Ham United') | (case2['TEAM'] == 'Arsenal') | (case2['TEAM'] == 'Tottenham Hotspur') | (case2['TEAM'] == 'Chelsea') | (case2['TEAM'] == 'Crystal Palace')]"
   ]
  },
  {
   "cell_type": "code",
   "execution_count": 39,
   "metadata": {},
   "outputs": [
    {
     "data": {
      "text/html": [
       "<div>\n",
       "<style scoped>\n",
       "    .dataframe tbody tr th:only-of-type {\n",
       "        vertical-align: middle;\n",
       "    }\n",
       "\n",
       "    .dataframe tbody tr th {\n",
       "        vertical-align: top;\n",
       "    }\n",
       "\n",
       "    .dataframe thead th {\n",
       "        text-align: right;\n",
       "    }\n",
       "</style>\n",
       "<table border=\"1\" class=\"dataframe\">\n",
       "  <thead>\n",
       "    <tr style=\"text-align: right;\">\n",
       "      <th></th>\n",
       "      <th>Rank</th>\n",
       "      <th>PLAYER</th>\n",
       "      <th>TEAM</th>\n",
       "      <th>GamesPlayed</th>\n",
       "      <th>GamesStarted</th>\n",
       "      <th>MIN</th>\n",
       "      <th>Goals</th>\n",
       "      <th>Assists</th>\n",
       "      <th>TotalShots</th>\n",
       "      <th>SOT</th>\n",
       "    </tr>\n",
       "  </thead>\n",
       "  <tbody>\n",
       "    <tr>\n",
       "      <th>0</th>\n",
       "      <td>3</td>\n",
       "      <td>Pierre-Emerick Aubameyang</td>\n",
       "      <td>Arsenal</td>\n",
       "      <td>36</td>\n",
       "      <td>35</td>\n",
       "      <td>3138</td>\n",
       "      <td>22</td>\n",
       "      <td>3</td>\n",
       "      <td>70</td>\n",
       "      <td>42</td>\n",
       "    </tr>\n",
       "    <tr>\n",
       "      <th>1</th>\n",
       "      <td>7</td>\n",
       "      <td>Harry Kane</td>\n",
       "      <td>Tottenham Hotspur</td>\n",
       "      <td>29</td>\n",
       "      <td>29</td>\n",
       "      <td>2589</td>\n",
       "      <td>18</td>\n",
       "      <td>2</td>\n",
       "      <td>62</td>\n",
       "      <td>37</td>\n",
       "    </tr>\n",
       "    <tr>\n",
       "      <th>2</th>\n",
       "      <td>12</td>\n",
       "      <td>Tammy Bakumo-Abraham</td>\n",
       "      <td>Chelsea</td>\n",
       "      <td>34</td>\n",
       "      <td>25</td>\n",
       "      <td>2221</td>\n",
       "      <td>15</td>\n",
       "      <td>3</td>\n",
       "      <td>74</td>\n",
       "      <td>40</td>\n",
       "    </tr>\n",
       "    <tr>\n",
       "      <th>3</th>\n",
       "      <td>20</td>\n",
       "      <td>Heung-Min Son</td>\n",
       "      <td>Tottenham Hotspur</td>\n",
       "      <td>30</td>\n",
       "      <td>28</td>\n",
       "      <td>2485</td>\n",
       "      <td>11</td>\n",
       "      <td>10</td>\n",
       "      <td>62</td>\n",
       "      <td>38</td>\n",
       "    </tr>\n",
       "    <tr>\n",
       "      <th>4</th>\n",
       "      <td>21</td>\n",
       "      <td>Michail Antonio</td>\n",
       "      <td>West Ham United</td>\n",
       "      <td>24</td>\n",
       "      <td>19</td>\n",
       "      <td>1770</td>\n",
       "      <td>10</td>\n",
       "      <td>3</td>\n",
       "      <td>54</td>\n",
       "      <td>31</td>\n",
       "    </tr>\n",
       "    <tr>\n",
       "      <th>...</th>\n",
       "      <td>...</td>\n",
       "      <td>...</td>\n",
       "      <td>...</td>\n",
       "      <td>...</td>\n",
       "      <td>...</td>\n",
       "      <td>...</td>\n",
       "      <td>...</td>\n",
       "      <td>...</td>\n",
       "      <td>...</td>\n",
       "      <td>...</td>\n",
       "    </tr>\n",
       "    <tr>\n",
       "      <th>137</th>\n",
       "      <td>525</td>\n",
       "      <td>Matt Macey</td>\n",
       "      <td>Arsenal</td>\n",
       "      <td>0</td>\n",
       "      <td>0</td>\n",
       "      <td>0</td>\n",
       "      <td>0</td>\n",
       "      <td>0</td>\n",
       "      <td>0</td>\n",
       "      <td>0</td>\n",
       "    </tr>\n",
       "    <tr>\n",
       "      <th>138</th>\n",
       "      <td>526</td>\n",
       "      <td>Matthew Smith</td>\n",
       "      <td>Arsenal</td>\n",
       "      <td>0</td>\n",
       "      <td>0</td>\n",
       "      <td>0</td>\n",
       "      <td>0</td>\n",
       "      <td>0</td>\n",
       "      <td>0</td>\n",
       "      <td>0</td>\n",
       "    </tr>\n",
       "    <tr>\n",
       "      <th>139</th>\n",
       "      <td>533</td>\n",
       "      <td>Alfie Lewis</td>\n",
       "      <td>West Ham United</td>\n",
       "      <td>0</td>\n",
       "      <td>0</td>\n",
       "      <td>0</td>\n",
       "      <td>0</td>\n",
       "      <td>0</td>\n",
       "      <td>0</td>\n",
       "      <td>0</td>\n",
       "    </tr>\n",
       "    <tr>\n",
       "      <th>140</th>\n",
       "      <td>536</td>\n",
       "      <td>Dennis Cirkin</td>\n",
       "      <td>Tottenham Hotspur</td>\n",
       "      <td>0</td>\n",
       "      <td>0</td>\n",
       "      <td>0</td>\n",
       "      <td>0</td>\n",
       "      <td>0</td>\n",
       "      <td>0</td>\n",
       "      <td>0</td>\n",
       "    </tr>\n",
       "    <tr>\n",
       "      <th>141</th>\n",
       "      <td>539</td>\n",
       "      <td>Conor Coventry</td>\n",
       "      <td>West Ham United</td>\n",
       "      <td>0</td>\n",
       "      <td>0</td>\n",
       "      <td>0</td>\n",
       "      <td>0</td>\n",
       "      <td>0</td>\n",
       "      <td>0</td>\n",
       "      <td>0</td>\n",
       "    </tr>\n",
       "  </tbody>\n",
       "</table>\n",
       "<p>142 rows × 10 columns</p>\n",
       "</div>"
      ],
      "text/plain": [
       "     Rank                     PLAYER               TEAM  GamesPlayed  \\\n",
       "0       3  Pierre-Emerick Aubameyang            Arsenal           36   \n",
       "1       7                 Harry Kane  Tottenham Hotspur           29   \n",
       "2      12       Tammy Bakumo-Abraham            Chelsea           34   \n",
       "3      20              Heung-Min Son  Tottenham Hotspur           30   \n",
       "4      21            Michail Antonio    West Ham United           24   \n",
       "..    ...                        ...                ...          ...   \n",
       "137   525                 Matt Macey            Arsenal            0   \n",
       "138   526              Matthew Smith            Arsenal            0   \n",
       "139   533                Alfie Lewis    West Ham United            0   \n",
       "140   536              Dennis Cirkin  Tottenham Hotspur            0   \n",
       "141   539             Conor Coventry    West Ham United            0   \n",
       "\n",
       "     GamesStarted   MIN  Goals  Assists  TotalShots  SOT  \n",
       "0              35  3138     22        3          70   42  \n",
       "1              29  2589     18        2          62   37  \n",
       "2              25  2221     15        3          74   40  \n",
       "3              28  2485     11       10          62   38  \n",
       "4              19  1770     10        3          54   31  \n",
       "..            ...   ...    ...      ...         ...  ...  \n",
       "137             0     0      0        0           0    0  \n",
       "138             0     0      0        0           0    0  \n",
       "139             0     0      0        0           0    0  \n",
       "140             0     0      0        0           0    0  \n",
       "141             0     0      0        0           0    0  \n",
       "\n",
       "[142 rows x 10 columns]"
      ]
     },
     "execution_count": 39,
     "metadata": {},
     "output_type": "execute_result"
    }
   ],
   "source": [
    "# Reseting the indexing\n",
    "\n",
    "case2.reset_index(drop=True,inplace = True)\n",
    "case2"
   ]
  },
  {
   "cell_type": "code",
   "execution_count": null,
   "metadata": {},
   "outputs": [],
   "source": []
  },
  {
   "cell_type": "code",
   "execution_count": 40,
   "metadata": {},
   "outputs": [],
   "source": [
    "def GperMIN(player,G):\n",
    "    di = {}   ## key as player name value as goals scored as value \n",
    "    \n",
    "    n = len(player)\n",
    "    for index in range(n):\n",
    "        i = player[index]\n",
    "        g = G[index]\n",
    "        di[i] =  g \n",
    "        \n",
    "    return di    \n"
   ]
  },
  {
   "cell_type": "code",
   "execution_count": 42,
   "metadata": {},
   "outputs": [],
   "source": [
    "dictionary = GperMIN(case2[\"PLAYER\"],case2[\"Goals\"])"
   ]
  },
  {
   "cell_type": "code",
   "execution_count": 45,
   "metadata": {},
   "outputs": [
    {
     "data": {
      "text/html": [
       "<div>\n",
       "<style scoped>\n",
       "    .dataframe tbody tr th:only-of-type {\n",
       "        vertical-align: middle;\n",
       "    }\n",
       "\n",
       "    .dataframe tbody tr th {\n",
       "        vertical-align: top;\n",
       "    }\n",
       "\n",
       "    .dataframe thead th {\n",
       "        text-align: right;\n",
       "    }\n",
       "</style>\n",
       "<table border=\"1\" class=\"dataframe\">\n",
       "  <thead>\n",
       "    <tr style=\"text-align: right;\">\n",
       "      <th></th>\n",
       "      <th>0</th>\n",
       "    </tr>\n",
       "  </thead>\n",
       "  <tbody>\n",
       "    <tr>\n",
       "      <th>Pierre-Emerick Aubameyang</th>\n",
       "      <td>22</td>\n",
       "    </tr>\n",
       "    <tr>\n",
       "      <th>Harry Kane</th>\n",
       "      <td>18</td>\n",
       "    </tr>\n",
       "    <tr>\n",
       "      <th>Tammy Bakumo-Abraham</th>\n",
       "      <td>15</td>\n",
       "    </tr>\n",
       "    <tr>\n",
       "      <th>Heung-Min Son</th>\n",
       "      <td>11</td>\n",
       "    </tr>\n",
       "    <tr>\n",
       "      <th>Michail Antonio</th>\n",
       "      <td>10</td>\n",
       "    </tr>\n",
       "    <tr>\n",
       "      <th>...</th>\n",
       "      <td>...</td>\n",
       "    </tr>\n",
       "    <tr>\n",
       "      <th>Emiliano Martínez</th>\n",
       "      <td>0</td>\n",
       "    </tr>\n",
       "    <tr>\n",
       "      <th>Bernd Leno</th>\n",
       "      <td>0</td>\n",
       "    </tr>\n",
       "    <tr>\n",
       "      <th>Mattéo Guendouzi Olié</th>\n",
       "      <td>0</td>\n",
       "    </tr>\n",
       "    <tr>\n",
       "      <th>Dani Ceballos</th>\n",
       "      <td>0</td>\n",
       "    </tr>\n",
       "    <tr>\n",
       "      <th>Conor Coventry</th>\n",
       "      <td>0</td>\n",
       "    </tr>\n",
       "  </tbody>\n",
       "</table>\n",
       "<p>142 rows × 1 columns</p>\n",
       "</div>"
      ],
      "text/plain": [
       "                            0\n",
       "Pierre-Emerick Aubameyang  22\n",
       "Harry Kane                 18\n",
       "Tammy Bakumo-Abraham       15\n",
       "Heung-Min Son              11\n",
       "Michail Antonio            10\n",
       "...                        ..\n",
       "Emiliano Martínez           0\n",
       "Bernd Leno                  0\n",
       "Mattéo Guendouzi Olié       0\n",
       "Dani Ceballos               0\n",
       "Conor Coventry              0\n",
       "\n",
       "[142 rows x 1 columns]"
      ]
     },
     "execution_count": 45,
     "metadata": {},
     "output_type": "execute_result"
    }
   ],
   "source": [
    "top5 = pd.DataFrame(list(dictionary.values()),list(dictionary.keys()))\n",
    "top5 = top5.sort_values(by = [0], ascending = False)\n",
    "top5"
   ]
  },
  {
   "cell_type": "code",
   "execution_count": 53,
   "metadata": {},
   "outputs": [
    {
     "name": "stdout",
     "output_type": "stream",
     "text": [
      "['Pierre-Emerick Aubameyang', 'Harry Kane', 'Tammy Bakumo-Abraham', 'Heung-Min Son', 'Michail Antonio'] [22, 18, 15, 11, 10]\n"
     ]
    }
   ],
   "source": [
    "x = []\n",
    "y = []\n",
    "\n",
    "for i in range(5):\n",
    "    x.append(top5.index[i])\n",
    "    y.append(top5.values[i][0])\n",
    "print(x,y)   "
   ]
  },
  {
   "cell_type": "code",
   "execution_count": null,
   "metadata": {},
   "outputs": [],
   "source": []
  },
  {
   "cell_type": "code",
   "execution_count": 57,
   "metadata": {},
   "outputs": [
    {
     "data": {
      "image/png": "[encoded data removed]",
      "text/plain": [
       "<Figure size 432x288 with 1 Axes>"
      ]
     },
     "metadata": {
      "needs_background": "light"
     },
     "output_type": "display_data"
    }
   ],
   "source": [
    "\n",
    "plt.plot(x, y, color='red', linestyle='dashed', linewidth = 3, marker='o', markerfacecolor='yellow', markersize=12)\n",
    "plt.xlabel(\"Player\")\n",
    "plt.xticks(rotation=30)\n",
    "plt.ylabel(\"Goals\")\n",
    "plt.title(\"Top 5 goal scorers from london clubs\")\n",
    "plt.grid()\n",
    "plt.show()\n"
   ]
  },
  {
   "cell_type": "code",
   "execution_count": 59,
   "metadata": {},
   "outputs": [
    {
     "data": {
      "text/html": [
       "<div>\n",
       "<style scoped>\n",
       "    .dataframe tbody tr th:only-of-type {\n",
       "        vertical-align: middle;\n",
       "    }\n",
       "\n",
       "    .dataframe tbody tr th {\n",
       "        vertical-align: top;\n",
       "    }\n",
       "\n",
       "    .dataframe thead th {\n",
       "        text-align: right;\n",
       "    }\n",
       "</style>\n",
       "<table border=\"1\" class=\"dataframe\">\n",
       "  <thead>\n",
       "    <tr style=\"text-align: right;\">\n",
       "      <th></th>\n",
       "      <th>London Players</th>\n",
       "      <th>Goals</th>\n",
       "    </tr>\n",
       "  </thead>\n",
       "  <tbody>\n",
       "    <tr>\n",
       "      <th>0</th>\n",
       "      <td>Pierre-Emerick Aubameyang</td>\n",
       "      <td>22</td>\n",
       "    </tr>\n",
       "    <tr>\n",
       "      <th>1</th>\n",
       "      <td>Harry Kane</td>\n",
       "      <td>18</td>\n",
       "    </tr>\n",
       "    <tr>\n",
       "      <th>2</th>\n",
       "      <td>Tammy Bakumo-Abraham</td>\n",
       "      <td>15</td>\n",
       "    </tr>\n",
       "    <tr>\n",
       "      <th>3</th>\n",
       "      <td>Heung-Min Son</td>\n",
       "      <td>11</td>\n",
       "    </tr>\n",
       "    <tr>\n",
       "      <th>4</th>\n",
       "      <td>Michail Antonio</td>\n",
       "      <td>10</td>\n",
       "    </tr>\n",
       "  </tbody>\n",
       "</table>\n",
       "</div>"
      ],
      "text/plain": [
       "              London Players  Goals\n",
       "0  Pierre-Emerick Aubameyang     22\n",
       "1                 Harry Kane     18\n",
       "2       Tammy Bakumo-Abraham     15\n",
       "3              Heung-Min Son     11\n",
       "4            Michail Antonio     10"
      ]
     },
     "execution_count": 59,
     "metadata": {},
     "output_type": "execute_result"
    }
   ],
   "source": [
    "li = list(zip(x,y))\n",
    "da = pd.DataFrame(li, columns = ['London Players','Goals'])\n",
    "da"
   ]
  },
  {
   "cell_type": "code",
   "execution_count": null,
   "metadata": {},
   "outputs": [],
   "source": []
  }
 ],
 "metadata": {
  "kernelspec": {
   "display_name": "Python 3",
   "language": "python",
   "name": "python3"
  },
  "language_info": {
   "codemirror_mode": {
    "name": "ipython",
    "version": 3
   },
   "file_extension": ".py",
   "mimetype": "text/x-python",
   "name": "python",
   "nbconvert_exporter": "python",
   "pygments_lexer": "ipython3",
   "version": "3.8.3"
  }
 },
 "nbformat": 4,
 "nbformat_minor": 4
}
