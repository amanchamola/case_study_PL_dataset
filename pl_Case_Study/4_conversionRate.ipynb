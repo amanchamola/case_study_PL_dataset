{
 "cells": [
  {
   "cell_type": "markdown",
   "metadata": {},
   "source": [
    "# Case 4 -\n",
    "\n",
    "Among the top 10 scorers from manchester clubs who was the most proffiecient i.e., who has the best conversion rate"
   ]
  },
  {
   "cell_type": "code",
   "execution_count": null,
   "metadata": {},
   "outputs": [],
   "source": []
  },
  {
   "cell_type": "code",
   "execution_count": 1,
   "metadata": {},
   "outputs": [],
   "source": [
    "import numpy as np\n",
    "import pandas as pd\n",
    "import matplotlib.pyplot as plt\n",
    "import csv\n",
    "import operator"
   ]
  },
  {
   "cell_type": "code",
   "execution_count": 2,
   "metadata": {},
   "outputs": [],
   "source": [
    "path = 'C:/Users/91958/Desktop/nyadata/PL_Player_Stats.csv'"
   ]
  },
  {
   "cell_type": "code",
   "execution_count": 3,
   "metadata": {},
   "outputs": [],
   "source": [
    "df = pd.read_csv(path)"
   ]
  },
  {
   "cell_type": "code",
   "execution_count": 4,
   "metadata": {},
   "outputs": [],
   "source": [
    "case4 = df.copy()"
   ]
  },
  {
   "cell_type": "code",
   "execution_count": 5,
   "metadata": {},
   "outputs": [
    {
     "data": {
      "text/plain": [
       "Index(['Rank', 'PLAYER', 'TEAM', 'GamesPlayed', 'GamesStarted', 'MIN', 'Goals',\n",
       "       'Assists', 'TotalShots', 'SOT'],\n",
       "      dtype='object')"
      ]
     },
     "execution_count": 5,
     "metadata": {},
     "output_type": "execute_result"
    }
   ],
   "source": [
    "case4.columns = ['Rank','PLAYER','TEAM','GamesPlayed','GamesStarted','MIN','Goals','Assists','TotalShots','SOT']\n",
    "case4.columns"
   ]
  },
  {
   "cell_type": "code",
   "execution_count": 6,
   "metadata": {},
   "outputs": [],
   "source": [
    "case4['PLAYER'].replace(\"Pierre-Emerick Aubameyang\", \"Pierre Aubameyang\", inplace = True)\n",
    "case4['PLAYER'].replace(\"Raheem Shaquille Sterling\", \"Raheem Sterling\", inplace = True)\n",
    "case4['PLAYER'].replace(\"Mohamed Salah Ghaly\", \"Moh Salah\", inplace = True)\n",
    "case4['PLAYER'].replace(\"Gabriel Fernando de Jesus\", \"G.Jesus\", inplace = True)\n",
    "case4['PLAYER'].replace(\"Sergio Leonel Agüero del Castillo\", \"Sergio Aguero\", inplace = True)\n",
    "case4['PLAYER'].replace(\"Bruno Miguel Borges Fernandes\", \"Bruno Fernandes\", inplace = True)\n",
    "case4['PLAYER'].replace(\"Pierre-Emerick Aubameyang\", \"Pierre Aubameyang\", inplace = True)\n",
    "case4['PLAYER'].replace(\"Raheem Shaquille Sterling\", \"Raheem Sterling\", inplace = True)\n",
    "case4['PLAYER'].replace(\"Mohamed Salah Ghaly\", \"Moh Salah\", inplace = True)"
   ]
  },
  {
   "cell_type": "code",
   "execution_count": 7,
   "metadata": {},
   "outputs": [],
   "source": [
    "#Filtering na if any\n",
    "\n",
    "case4.dropna(inplace = True, subset = ['PLAYER'])\n",
    "case4.reset_index(inplace = True, drop = True)"
   ]
  },
  {
   "cell_type": "code",
   "execution_count": 8,
   "metadata": {},
   "outputs": [
    {
     "data": {
      "text/plain": [
       "Index(['Arsenal', 'West Ham United', 'Manchester United', 'Norwich City',\n",
       "       'Watford', 'Tottenham Hotspur', 'Liverpool', 'Newcastle United',\n",
       "       'Bournemouth', 'Burnley', 'Crystal Palace', 'Chelsea', 'Southampton',\n",
       "       'Aston Villa', 'Sheffield United', 'Everton', 'Manchester City',\n",
       "       'Leicester City', 'Brighton and Hove Albion',\n",
       "       'Wolverhampton Wanderers'],\n",
       "      dtype='object')"
      ]
     },
     "execution_count": 8,
     "metadata": {},
     "output_type": "execute_result"
    }
   ],
   "source": [
    "temp = case4[\"TEAM\"].value_counts()\n",
    "temp.index"
   ]
  },
  {
   "cell_type": "code",
   "execution_count": 9,
   "metadata": {},
   "outputs": [],
   "source": [
    "# Filtering the clubs \n",
    "\n",
    "case4 = case4[(case4['TEAM'] == 'Manchester United') | (case4['TEAM'] == 'Manchester City')]"
   ]
  },
  {
   "cell_type": "code",
   "execution_count": 10,
   "metadata": {},
   "outputs": [],
   "source": [
    "# Reseting the Indexing \n",
    "\n",
    "case4.reset_index(drop=True,inplace = True)"
   ]
  },
  {
   "cell_type": "code",
   "execution_count": null,
   "metadata": {},
   "outputs": [],
   "source": []
  },
  {
   "cell_type": "markdown",
   "metadata": {},
   "source": [
    "# Sorting values according to total goals scored\n",
    "\n",
    "finding out the top 7 scorers among the manchester clubs"
   ]
  },
  {
   "cell_type": "code",
   "execution_count": 11,
   "metadata": {},
   "outputs": [
    {
     "data": {
      "text/html": [
       "<div>\n",
       "<style scoped>\n",
       "    .dataframe tbody tr th:only-of-type {\n",
       "        vertical-align: middle;\n",
       "    }\n",
       "\n",
       "    .dataframe tbody tr th {\n",
       "        vertical-align: top;\n",
       "    }\n",
       "\n",
       "    .dataframe thead th {\n",
       "        text-align: right;\n",
       "    }\n",
       "</style>\n",
       "<table border=\"1\" class=\"dataframe\">\n",
       "  <thead>\n",
       "    <tr style=\"text-align: right;\">\n",
       "      <th></th>\n",
       "      <th>Rank</th>\n",
       "      <th>PLAYER</th>\n",
       "      <th>TEAM</th>\n",
       "      <th>GamesPlayed</th>\n",
       "      <th>GamesStarted</th>\n",
       "      <th>MIN</th>\n",
       "      <th>Goals</th>\n",
       "      <th>Assists</th>\n",
       "      <th>TotalShots</th>\n",
       "      <th>SOT</th>\n",
       "    </tr>\n",
       "  </thead>\n",
       "  <tbody>\n",
       "    <tr>\n",
       "      <th>0</th>\n",
       "      <td>4</td>\n",
       "      <td>Raheem Sterling</td>\n",
       "      <td>Manchester City</td>\n",
       "      <td>33</td>\n",
       "      <td>30</td>\n",
       "      <td>2660</td>\n",
       "      <td>20</td>\n",
       "      <td>1</td>\n",
       "      <td>68</td>\n",
       "      <td>38</td>\n",
       "    </tr>\n",
       "    <tr>\n",
       "      <th>1</th>\n",
       "      <td>9</td>\n",
       "      <td>Marcus Rashford</td>\n",
       "      <td>Manchester United</td>\n",
       "      <td>31</td>\n",
       "      <td>31</td>\n",
       "      <td>2653</td>\n",
       "      <td>17</td>\n",
       "      <td>7</td>\n",
       "      <td>77</td>\n",
       "      <td>44</td>\n",
       "    </tr>\n",
       "    <tr>\n",
       "      <th>2</th>\n",
       "      <td>10</td>\n",
       "      <td>Anthony Martial</td>\n",
       "      <td>Manchester United</td>\n",
       "      <td>32</td>\n",
       "      <td>31</td>\n",
       "      <td>2638</td>\n",
       "      <td>17</td>\n",
       "      <td>6</td>\n",
       "      <td>59</td>\n",
       "      <td>40</td>\n",
       "    </tr>\n",
       "    <tr>\n",
       "      <th>3</th>\n",
       "      <td>11</td>\n",
       "      <td>Sergio Aguero</td>\n",
       "      <td>Manchester City</td>\n",
       "      <td>24</td>\n",
       "      <td>18</td>\n",
       "      <td>1456</td>\n",
       "      <td>16</td>\n",
       "      <td>3</td>\n",
       "      <td>54</td>\n",
       "      <td>28</td>\n",
       "    </tr>\n",
       "    <tr>\n",
       "      <th>4</th>\n",
       "      <td>13</td>\n",
       "      <td>G.Jesus</td>\n",
       "      <td>Manchester City</td>\n",
       "      <td>34</td>\n",
       "      <td>21</td>\n",
       "      <td>2027</td>\n",
       "      <td>14</td>\n",
       "      <td>7</td>\n",
       "      <td>81</td>\n",
       "      <td>48</td>\n",
       "    </tr>\n",
       "  </tbody>\n",
       "</table>\n",
       "</div>"
      ],
      "text/plain": [
       "   Rank           PLAYER               TEAM  GamesPlayed  GamesStarted   MIN  \\\n",
       "0     4  Raheem Sterling    Manchester City           33            30  2660   \n",
       "1     9  Marcus Rashford  Manchester United           31            31  2653   \n",
       "2    10  Anthony Martial  Manchester United           32            31  2638   \n",
       "3    11    Sergio Aguero    Manchester City           24            18  1456   \n",
       "4    13          G.Jesus    Manchester City           34            21  2027   \n",
       "\n",
       "   Goals  Assists  TotalShots  SOT  \n",
       "0     20        1          68   38  \n",
       "1     17        7          77   44  \n",
       "2     17        6          59   40  \n",
       "3     16        3          54   28  \n",
       "4     14        7          81   48  "
      ]
     },
     "execution_count": 11,
     "metadata": {},
     "output_type": "execute_result"
    }
   ],
   "source": [
    "case4 = case4.sort_values(by = [\"Goals\"], ascending = False)\n",
    "case4.head()"
   ]
  },
  {
   "cell_type": "markdown",
   "metadata": {},
   "source": [
    "### Creating a function to get the conversion rate and total shots missed"
   ]
  },
  {
   "cell_type": "code",
   "execution_count": 12,
   "metadata": {},
   "outputs": [],
   "source": [
    "def GperMIN(player,G,SOT,TotalShots):\n",
    "    di = {}   ## key as player name value as mintues per goals and conversion rate and shots off target in a list as value \n",
    "    \n",
    "    n = len(player)\n",
    "    for index in range(n):\n",
    "        i = player[index]\n",
    "        g = G[index]\n",
    "        sot = SOT[index]\n",
    "        t = TotalShots[index]\n",
    "        li = []\n",
    "        if sot !=0:\n",
    "            conversion_rate = g/sot\n",
    "            li.append(conversion_rate)\n",
    "            \n",
    "            off_target_shots = t-sot\n",
    "            li.append(off_target_shots)\n",
    "            di[i] =  li\n",
    "        else:\n",
    "            continue\n",
    "    return di    "
   ]
  },
  {
   "cell_type": "code",
   "execution_count": 13,
   "metadata": {},
   "outputs": [
    {
     "data": {
      "text/plain": [
       "{'Raheem Sterling': [0.5263157894736842, 30],\n",
       " 'Marcus Rashford': [0.38636363636363635, 33],\n",
       " 'Anthony Martial': [0.425, 19],\n",
       " 'Sergio Aguero': [0.5714285714285714, 26],\n",
       " 'G.Jesus': [0.2916666666666667, 33],\n",
       " 'Kevin De Bruyne': [0.41935483870967744, 39],\n",
       " 'Riyad Mahrez': [0.34375, 19],\n",
       " 'Mason Greenwood': [0.5, 12],\n",
       " 'Bruno Fernandes': [0.4444444444444444, 19],\n",
       " 'David Silva': [0.3333333333333333, 14],\n",
       " 'Bernardo Mota Veiga de Carvalho e Silva': [0.4, 14],\n",
       " 'Phil Foden': [0.3333333333333333, 11],\n",
       " 'Scott McTominay': [0.4, 7],\n",
       " 'Rodrigo Hernández Cascante': [0.3333333333333333, 11],\n",
       " 'Daniel James': [0.15, 12],\n",
       " 'İlkay Gündoğan': [0.25, 11],\n",
       " 'Nicolás Hernán Otamendi': [0.2857142857142857, 5],\n",
       " 'Kyle Walker': [0.3333333333333333, 6],\n",
       " 'Aymeric Laporte': [0.5, 1],\n",
       " 'Jesse Lingard': [0.16666666666666666, 6],\n",
       " 'Andreas Hugo Hoelgebaum Pereira': [0.07142857142857142, 14],\n",
       " 'Paul Pogba': [0.125, 9],\n",
       " 'Victor Lindelöf': [1.0, 4],\n",
       " 'Harry Maguire': [0.125, 17],\n",
       " 'Brandon Williams': [0.5, 3],\n",
       " 'João Pedro Cavaco Cancelo': [0.0, 9],\n",
       " 'John Stones': [0.0, 4],\n",
       " 'Oleksandr Zinchenko': [0.0, 6],\n",
       " 'Juan Mata': [0.0, 6],\n",
       " 'Nemanja Matic': [0.0, 3],\n",
       " 'Luke Shaw': [0.0, 2],\n",
       " 'Aaron Wan-Bissaka': [0.0, 4],\n",
       " 'Fernando Luiz Rosa': [0.0, 11],\n",
       " 'Phil Jones': [0.0, 1],\n",
       " 'Frederico Rodrigues de Paula Santos': [0.0, 20],\n",
       " 'Eric García': [0.0, 1],\n",
       " 'Benjamin Mendy': [0.0, 2],\n",
       " 'Odion Ighalo': [0.0, 2],\n",
       " 'Tommy Doyle': [0.0, 0]}"
      ]
     },
     "execution_count": 13,
     "metadata": {},
     "output_type": "execute_result"
    }
   ],
   "source": [
    "dictionary = GperMIN(case4[\"PLAYER\"],case4[\"Goals\"],case4[\"SOT\"],case4[\"TotalShots\"])\n",
    "dictionary"
   ]
  },
  {
   "cell_type": "code",
   "execution_count": 14,
   "metadata": {},
   "outputs": [
    {
     "data": {
      "text/html": [
       "<div>\n",
       "<style scoped>\n",
       "    .dataframe tbody tr th:only-of-type {\n",
       "        vertical-align: middle;\n",
       "    }\n",
       "\n",
       "    .dataframe tbody tr th {\n",
       "        vertical-align: top;\n",
       "    }\n",
       "\n",
       "    .dataframe thead th {\n",
       "        text-align: right;\n",
       "    }\n",
       "</style>\n",
       "<table border=\"1\" class=\"dataframe\">\n",
       "  <thead>\n",
       "    <tr style=\"text-align: right;\">\n",
       "      <th></th>\n",
       "      <th>0</th>\n",
       "      <th>1</th>\n",
       "    </tr>\n",
       "  </thead>\n",
       "  <tbody>\n",
       "    <tr>\n",
       "      <th>Raheem Sterling</th>\n",
       "      <td>0.526316</td>\n",
       "      <td>30</td>\n",
       "    </tr>\n",
       "    <tr>\n",
       "      <th>Marcus Rashford</th>\n",
       "      <td>0.386364</td>\n",
       "      <td>33</td>\n",
       "    </tr>\n",
       "    <tr>\n",
       "      <th>Anthony Martial</th>\n",
       "      <td>0.425000</td>\n",
       "      <td>19</td>\n",
       "    </tr>\n",
       "    <tr>\n",
       "      <th>Sergio Aguero</th>\n",
       "      <td>0.571429</td>\n",
       "      <td>26</td>\n",
       "    </tr>\n",
       "    <tr>\n",
       "      <th>G.Jesus</th>\n",
       "      <td>0.291667</td>\n",
       "      <td>33</td>\n",
       "    </tr>\n",
       "  </tbody>\n",
       "</table>\n",
       "</div>"
      ],
      "text/plain": [
       "                        0   1\n",
       "Raheem Sterling  0.526316  30\n",
       "Marcus Rashford  0.386364  33\n",
       "Anthony Martial  0.425000  19\n",
       "Sergio Aguero    0.571429  26\n",
       "G.Jesus          0.291667  33"
      ]
     },
     "execution_count": 14,
     "metadata": {},
     "output_type": "execute_result"
    }
   ],
   "source": [
    "top7 = pd.DataFrame(list(dictionary.values()),list(dictionary.keys()))\n",
    "top7.head()"
   ]
  },
  {
   "cell_type": "code",
   "execution_count": 15,
   "metadata": {},
   "outputs": [
    {
     "data": {
      "text/plain": [
       "[30.0, 33.0, 19.0, 26.0, 33.0, 39.0, 19.0]"
      ]
     },
     "execution_count": 15,
     "metadata": {},
     "output_type": "execute_result"
    }
   ],
   "source": [
    "x= []\n",
    "y = []\n",
    "t = []\n",
    "for i in range (7):\n",
    "    x.append(top7.index[i])\n",
    "    y.append(top7.values[i][0])\n",
    "    t.append(top7.values[i][1])\n",
    "t    "
   ]
  },
  {
   "cell_type": "code",
   "execution_count": 16,
   "metadata": {},
   "outputs": [
    {
     "name": "stdout",
     "output_type": "stream",
     "text": [
      "List Of Top 7 Goal Scorers From Two Manchester Clubs in the Premier League 2019/20 Season - \n",
      "1: Raheem Sterling\n",
      "2: Marcus Rashford\n",
      "3: Anthony Martial\n",
      "4: Sergio Aguero\n",
      "5: G.Jesus\n",
      "6: Kevin De Bruyne\n",
      "7: Riyad Mahrez\n"
     ]
    }
   ],
   "source": [
    "print(\"List Of Top 7 Goal Scorers From Two Manchester Clubs in the Premier League 2019/20 Season - \")\n",
    "i = 0\n",
    "for ele in x:\n",
    "    print(i+1,end='')\n",
    "    print(\": \",end = '')\n",
    "    print(ele)\n",
    "    \n",
    "    i += 1"
   ]
  },
  {
   "cell_type": "code",
   "execution_count": null,
   "metadata": {},
   "outputs": [],
   "source": []
  },
  {
   "cell_type": "code",
   "execution_count": 17,
   "metadata": {},
   "outputs": [],
   "source": [
    "import copy           # Important to change size of the bubble so that it can be mentioned or seen who missed the most\n",
    "\n",
    "temp = copy.copy(t)\n",
    "\n",
    "for idx in range(len(temp)):\n",
    "    temp[idx] = temp[idx]*4.5\n"
   ]
  },
  {
   "cell_type": "markdown",
   "metadata": {},
   "source": [
    "# Plotting Bubble graph\n",
    "\n",
    "size of the bubble is the number of shots off target. "
   ]
  },
  {
   "cell_type": "code",
   "execution_count": 18,
   "metadata": {},
   "outputs": [
    {
     "data": {
      "image/png": "[encoded data removed]",
      "text/plain": [
       "<Figure size 432x288 with 1 Axes>"
      ]
     },
     "metadata": {
      "needs_background": "light"
     },
     "output_type": "display_data"
    }
   ],
   "source": [
    "col = np.arange(len(temp))\n",
    "plt.scatter(x,y,c=col,s=temp,edgecolor = 'black',label = y)\n",
    "\n",
    "plt.xlabel(\"Players from manchester\")\n",
    "plt.xticks(rotation = 40)\n",
    "plt.grid()\n",
    "   \n",
    "\n",
    "plt.ylabel(\"goals\")\n",
    "plt.title(\"top 5 goal scorers\")\n",
    "plt.show()"
   ]
  },
  {
   "cell_type": "code",
   "execution_count": null,
   "metadata": {},
   "outputs": [],
   "source": []
  },
  {
   "cell_type": "code",
   "execution_count": 19,
   "metadata": {},
   "outputs": [
    {
     "data": {
      "text/html": [
       "<div>\n",
       "<style scoped>\n",
       "    .dataframe tbody tr th:only-of-type {\n",
       "        vertical-align: middle;\n",
       "    }\n",
       "\n",
       "    .dataframe tbody tr th {\n",
       "        vertical-align: top;\n",
       "    }\n",
       "\n",
       "    .dataframe thead th {\n",
       "        text-align: right;\n",
       "    }\n",
       "</style>\n",
       "<table border=\"1\" class=\"dataframe\">\n",
       "  <thead>\n",
       "    <tr style=\"text-align: right;\">\n",
       "      <th></th>\n",
       "      <th>Players</th>\n",
       "      <th>Conversion rate</th>\n",
       "      <th>Off Traget Shots</th>\n",
       "    </tr>\n",
       "  </thead>\n",
       "  <tbody>\n",
       "    <tr>\n",
       "      <th>1</th>\n",
       "      <td>Raheem Sterling</td>\n",
       "      <td>0.526316</td>\n",
       "      <td>30.0</td>\n",
       "    </tr>\n",
       "    <tr>\n",
       "      <th>2</th>\n",
       "      <td>Marcus Rashford</td>\n",
       "      <td>0.386364</td>\n",
       "      <td>33.0</td>\n",
       "    </tr>\n",
       "    <tr>\n",
       "      <th>3</th>\n",
       "      <td>Anthony Martial</td>\n",
       "      <td>0.425000</td>\n",
       "      <td>19.0</td>\n",
       "    </tr>\n",
       "    <tr>\n",
       "      <th>4</th>\n",
       "      <td>Sergio Aguero</td>\n",
       "      <td>0.571429</td>\n",
       "      <td>26.0</td>\n",
       "    </tr>\n",
       "    <tr>\n",
       "      <th>5</th>\n",
       "      <td>G.Jesus</td>\n",
       "      <td>0.291667</td>\n",
       "      <td>33.0</td>\n",
       "    </tr>\n",
       "    <tr>\n",
       "      <th>6</th>\n",
       "      <td>Kevin De Bruyne</td>\n",
       "      <td>0.419355</td>\n",
       "      <td>39.0</td>\n",
       "    </tr>\n",
       "    <tr>\n",
       "      <th>7</th>\n",
       "      <td>Riyad Mahrez</td>\n",
       "      <td>0.343750</td>\n",
       "      <td>19.0</td>\n",
       "    </tr>\n",
       "  </tbody>\n",
       "</table>\n",
       "</div>"
      ],
      "text/plain": [
       "           Players  Conversion rate  Off Traget Shots\n",
       "1  Raheem Sterling         0.526316              30.0\n",
       "2  Marcus Rashford         0.386364              33.0\n",
       "3  Anthony Martial         0.425000              19.0\n",
       "4    Sergio Aguero         0.571429              26.0\n",
       "5          G.Jesus         0.291667              33.0\n",
       "6  Kevin De Bruyne         0.419355              39.0\n",
       "7     Riyad Mahrez         0.343750              19.0"
      ]
     },
     "execution_count": 19,
     "metadata": {},
     "output_type": "execute_result"
    }
   ],
   "source": [
    "li = list(zip(x,y,t))\n",
    "# creating this list for indexing to start from 1 instead of zero\n",
    "idxli = []\n",
    "for i in range(1,8):\n",
    "    idxli.append(i)\n",
    "da = pd.DataFrame(li,columns=['Players','Conversion rate','Off Traget Shots'],index = idxli)\n",
    "da"
   ]
  },
  {
   "cell_type": "code",
   "execution_count": null,
   "metadata": {},
   "outputs": [],
   "source": []
  }
 ],
 "metadata": {
  "kernelspec": {
   "display_name": "Python 3",
   "language": "python",
   "name": "python3"
  },
  "language_info": {
   "codemirror_mode": {
    "name": "ipython",
    "version": 3
   },
   "file_extension": ".py",
   "mimetype": "text/x-python",
   "name": "python",
   "nbconvert_exporter": "python",
   "pygments_lexer": "ipython3",
   "version": "3.8.3"
  }
 },
 "nbformat": 4,
 "nbformat_minor": 4
}
